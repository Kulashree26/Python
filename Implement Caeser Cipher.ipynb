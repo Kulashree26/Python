{
 "cells": [
  {
   "cell_type": "code",
   "execution_count": 12,
   "id": "9ea010ad",
   "metadata": {},
   "outputs": [
    {
     "name": "stdout",
     "output_type": "stream",
     "text": [
      "bcd\n",
      "2\n",
      "def\n",
      "bcd\n"
     ]
    }
   ],
   "source": [
    "text = input()\n",
    "n = int(input())\n",
    "list1 = []\n",
    "alpha = 'abcdefghijklmnopqrstuvwxyz'\n",
    "for i in text:\n",
    "    if i in alpha:\n",
    "        index = alpha.index(i)\n",
    "        Ind = (index + n)%26\n",
    "        letters = alpha[Ind]\n",
    "        list1.append(letters)\n",
    "        new_text= ''.join(list1)\n",
    "print(new_text)\n",
    "\n",
    "list2 = []\n",
    "for j in new_text:\n",
    "    if j in alpha:\n",
    "        index1 = alpha.index(j)\n",
    "        I = (index1 - n)%26\n",
    "        L = alpha[I]\n",
    "        list2.append(L)\n",
    "        old_text= ''.join(list2)\n",
    "print(old_text)\n"
   ]
  },
  {
   "cell_type": "code",
   "execution_count": null,
   "id": "3f1a877f",
   "metadata": {},
   "outputs": [],
   "source": []
  }
 ],
 "metadata": {
  "kernelspec": {
   "display_name": "Python 3",
   "language": "python",
   "name": "python3"
  },
  "language_info": {
   "codemirror_mode": {
    "name": "ipython",
    "version": 3
   },
   "file_extension": ".py",
   "mimetype": "text/x-python",
   "name": "python",
   "nbconvert_exporter": "python",
   "pygments_lexer": "ipython3",
   "version": "3.8.8"
  }
 },
 "nbformat": 4,
 "nbformat_minor": 5
}
