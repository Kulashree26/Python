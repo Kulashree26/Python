{
 "cells": [
  {
   "cell_type": "code",
   "execution_count": 8,
   "id": "fba14beb",
   "metadata": {},
   "outputs": [],
   "source": [
    "f1 = open(\"file1.txt\", \"w\")\n",
    "f1.write(\"My name is Kulashree Rakesh More\")\n",
    "f1.close()"
   ]
  },
  {
   "cell_type": "code",
   "execution_count": 10,
   "id": "bc5198e9",
   "metadata": {},
   "outputs": [
    {
     "name": "stdout",
     "output_type": "stream",
     "text": [
      "My name is Kulashree Rakesh More\n"
     ]
    }
   ],
   "source": [
    "f1=open(\"file1.txt\", \"r\")\n",
    "print(f1.read())"
   ]
  },
  {
   "cell_type": "code",
   "execution_count": 11,
   "id": "83a19b6e",
   "metadata": {},
   "outputs": [],
   "source": [
    "f2 = open(\"file2.txt\", \"x\")"
   ]
  },
  {
   "cell_type": "code",
   "execution_count": 12,
   "id": "0d4bfdb4",
   "metadata": {},
   "outputs": [],
   "source": [
    "with open(\"file1.txt\",\"r\") as f1 , open(\"file2.txt\", \"a\") as f2:\n",
    "    for line in f1:\n",
    "        f2.write(line)"
   ]
  },
  {
   "cell_type": "code",
   "execution_count": 14,
   "id": "42650256",
   "metadata": {},
   "outputs": [
    {
     "data": {
      "text/plain": [
       "'My name is Kulashree Rakesh More'"
      ]
     },
     "execution_count": 14,
     "metadata": {},
     "output_type": "execute_result"
    }
   ],
   "source": [
    "f2 = open(\"file2.txt\",\"r\")\n",
    "f2.read()"
   ]
  },
  {
   "cell_type": "code",
   "execution_count": null,
   "id": "f05dd63e",
   "metadata": {},
   "outputs": [],
   "source": []
  }
 ],
 "metadata": {
  "kernelspec": {
   "display_name": "Python 3",
   "language": "python",
   "name": "python3"
  },
  "language_info": {
   "codemirror_mode": {
    "name": "ipython",
    "version": 3
   },
   "file_extension": ".py",
   "mimetype": "text/x-python",
   "name": "python",
   "nbconvert_exporter": "python",
   "pygments_lexer": "ipython3",
   "version": "3.8.8"
  }
 },
 "nbformat": 4,
 "nbformat_minor": 5
}
