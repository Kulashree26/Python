{
 "cells": [
  {
   "cell_type": "code",
   "execution_count": 53,
   "id": "3fa4d644",
   "metadata": {},
   "outputs": [],
   "source": [
    "def check_name():\n",
    "    while True:\n",
    "        name = input('enter name:')\n",
    "        for name in name:\n",
    "            if (name.isalpha() or name in [' ']):\n",
    "                return True \n",
    "            else:\n",
    "                return False\n"
   ]
  },
  {
   "cell_type": "code",
   "execution_count": 54,
   "id": "9cbe3551",
   "metadata": {},
   "outputs": [],
   "source": [
    "def check_mob_num():\n",
    "    while True:\n",
    "        N = input('enter mob_no.:')\n",
    "        if (N.isdigit() == True and len(N)==10):\n",
    "            print('valid number')\n",
    "        else:\n",
    "            print('Invalid number')\n",
    "        break"
   ]
  },
  {
   "cell_type": "code",
   "execution_count": 55,
   "id": "7cf73919",
   "metadata": {},
   "outputs": [],
   "source": [
    "import re\n",
    "def check_email():\n",
    "    regex = r'\\b[A-za-z0-9._%+-]+@[A-za-z0-9.-]+\\.[A-Z|a-z]{2,}\\b'\n",
    "    while True:\n",
    "        Email_id = input('enter email_id:')\n",
    "        if (re.fullmatch(regex, Email_id)):\n",
    "            print('Valid Email_id')\n",
    "        else:\n",
    "            print('Invalid Email_id')\n",
    "        break"
   ]
  },
  {
   "cell_type": "code",
   "execution_count": 67,
   "id": "93d8fcb8",
   "metadata": {},
   "outputs": [],
   "source": [
    "from datetime import datetime\n",
    "def check_birthdate():\n",
    "    while True:\n",
    "        Birthdate = input('enter birthdate:')\n",
    "        try:\n",
    "            dt_start = datetime.strptime(Birthdate , '%d/%m/%Y')\n",
    "            print('Valid date')\n",
    "        except ValueError:\n",
    "            print('Invalid date')\n",
    "        break\n",
    "        "
   ]
  },
  {
   "cell_type": "code",
   "execution_count": 70,
   "id": "5748f2dd",
   "metadata": {},
   "outputs": [
    {
     "name": "stdout",
     "output_type": "stream",
     "text": [
      "do you want to check again:y\n",
      "select option (1/2/3/4):1\n",
      "enter name:kulashree more\n",
      "Valid\n",
      "do you want to check again:y\n",
      "select option (1/2/3/4):2\n",
      "enter mob_no.:123456\n",
      "Invalid number\n",
      "do you want to check again:y\n",
      "select option (1/2/3/4):3\n",
      "enter email_id:Kulashree@gmail.com\n",
      "Valid Email_id\n",
      "do you want to check again:y\n",
      "select option (1/2/3/4):4\n",
      "enter birthdate:26/3/1999\n",
      "Valid date\n",
      "do you want to check again:n\n",
      "None\n"
     ]
    }
   ],
   "source": [
    "def check_validations():\n",
    "    while True:\n",
    "        cmd = input('do you want to check again:')\n",
    "        if cmd == 'n':\n",
    "            break\n",
    "        elif cmd == 'y':\n",
    "            option = input('select option (1/2/3/4):')\n",
    "            if option == '1':\n",
    "                if check_name():\n",
    "                    print('Valid')\n",
    "                else:\n",
    "                    print('Invalid')\n",
    "            elif option == '2':\n",
    "                check_mob_num()    \n",
    "            elif option == '3':\n",
    "                check_email()\n",
    "            elif option == '4':\n",
    "                check_birthdate()\n",
    "            \n",
    "print(check_validations())"
   ]
  },
  {
   "cell_type": "code",
   "execution_count": null,
   "id": "9a4b1e4c",
   "metadata": {},
   "outputs": [],
   "source": []
  }
 ],
 "metadata": {
  "kernelspec": {
   "display_name": "Python 3",
   "language": "python",
   "name": "python3"
  },
  "language_info": {
   "codemirror_mode": {
    "name": "ipython",
    "version": 3
   },
   "file_extension": ".py",
   "mimetype": "text/x-python",
   "name": "python",
   "nbconvert_exporter": "python",
   "pygments_lexer": "ipython3",
   "version": "3.8.8"
  }
 },
 "nbformat": 4,
 "nbformat_minor": 5
}
