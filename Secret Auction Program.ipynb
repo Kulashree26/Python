{
 "cells": [
  {
   "cell_type": "code",
   "execution_count": 34,
   "id": "100c1540",
   "metadata": {},
   "outputs": [
    {
     "name": "stdout",
     "output_type": "stream",
     "text": [
      "enter cmd:y\n",
      "enter name:a\n",
      "enter price:50\n",
      "enter cmd:y\n",
      "enter name:b\n",
      "enter price:70\n",
      "enter cmd:y\n",
      "enter name:c\n",
      "enter price:30\n",
      "enter cmd:n\n",
      "name of winner: b\n"
     ]
    }
   ],
   "source": [
    "d={}\n",
    "while True:\n",
    "    command = input('enter cmd:')\n",
    "    if command == 'y':\n",
    "        key = input('enter name:')\n",
    "        value = int(input('enter price:'))\n",
    "        d.update({key: value})\n",
    "    if command == 'n':\n",
    "        break\n",
    "winner_name = max(d, key=d.get)\n",
    "print('name of winner:', winner_name)\n",
    "        \n",
    "    "
   ]
  },
  {
   "cell_type": "code",
   "execution_count": null,
   "id": "ee68efcd",
   "metadata": {},
   "outputs": [],
   "source": []
  },
  {
   "cell_type": "code",
   "execution_count": null,
   "id": "f6b36a2c",
   "metadata": {},
   "outputs": [],
   "source": []
  }
 ],
 "metadata": {
  "kernelspec": {
   "display_name": "Python 3",
   "language": "python",
   "name": "python3"
  },
  "language_info": {
   "codemirror_mode": {
    "name": "ipython",
    "version": 3
   },
   "file_extension": ".py",
   "mimetype": "text/x-python",
   "name": "python",
   "nbconvert_exporter": "python",
   "pygments_lexer": "ipython3",
   "version": "3.8.8"
  }
 },
 "nbformat": 4,
 "nbformat_minor": 5
}
