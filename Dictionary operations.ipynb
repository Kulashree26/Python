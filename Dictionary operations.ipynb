{
 "cells": [
  {
   "cell_type": "code",
   "execution_count": 17,
   "id": "6eac00da",
   "metadata": {},
   "outputs": [],
   "source": [
    "list_of_students=[{'name':'Kulashree', 'student_id':'Msc01', 'branch':'Math', 'mob_no.':2345623451, 'email_id':'Kulashree@gmail.com'},\n",
    "    {'name':'Parth', 'student_id': 'Msc02', 'branch':'Stat', 'mob_no.':4567820395, 'email_id':'Parth@gmail.com' }, \n",
    "     {'name':'Gaurav','student_id': 'Msc03', 'branch':'Chem', 'mob_no.': 1290812345, 'email_id':'Gaurav@gmail.com' },\n",
    "     {'name':'Ashwini', 'student_id':'Msc04','branch':'Phy', 'mob_no.':3654709132, 'email_id':'Ashwini@gmail.com'},\n",
    "     {'name':'Divya', 'student_id':'Msc05', 'branch':'Comp', 'mob_no.':3304564821, 'email_id':'Divya@gmail.com'}]"
   ]
  },
  {
   "cell_type": "code",
   "execution_count": 18,
   "id": "78a9c914",
   "metadata": {},
   "outputs": [],
   "source": [
    "def insert_info():\n",
    "    d = {}\n",
    "    while True:\n",
    "        i = input('enter_key:')\n",
    "        N = input('enter_info:')\n",
    "        if (i == 'name') or (i == 'student_id') or (i == 'branch') or (i == 'mob_no.') or (i == 'email_id'):\n",
    "            d.update({i:''.join(N)})\n",
    "        else:\n",
    "            break\n",
    "    return list_of_students.append(d)\n"
   ]
  },
  {
   "cell_type": "code",
   "execution_count": 19,
   "id": "0dfd914e",
   "metadata": {},
   "outputs": [],
   "source": [
    "def remove_info():\n",
    "    name = input('enter_name:')\n",
    "    A = next(filter(lambda x: x['name'] == name , list_of_students))\n",
    "    list_of_students.remove(A)\n",
    "    return list_of_students\n"
   ]
  },
  {
   "cell_type": "code",
   "execution_count": 20,
   "id": "7ff8186f",
   "metadata": {},
   "outputs": [],
   "source": [
    "def find_info():\n",
    "    student_Id = input('enter student_id:')\n",
    "    B = next(filter(lambda x: x['student_id'] == student_Id , list_of_students))\n",
    "    return B\n",
    "    "
   ]
  },
  {
   "cell_type": "code",
   "execution_count": 21,
   "id": "6b4f05b8",
   "metadata": {},
   "outputs": [],
   "source": [
    "def sort():\n",
    "    sorted(list_of_students, key = lambda x:x['student_id'])\n",
    "    return list_of_students"
   ]
  },
  {
   "cell_type": "code",
   "execution_count": 23,
   "id": "e2f5a24a",
   "metadata": {},
   "outputs": [
    {
     "name": "stdout",
     "output_type": "stream",
     "text": [
      "select option - 1:insert, 2:remove, 3:find, 4:sort\n",
      "do you want to add info:y\n",
      "select option:4\n",
      "[{'name': 'Kulashree', 'student_id': 'Msc01', 'branch': 'Math', 'mob_no.': 2345623451, 'email_id': 'Kulashree@gmail.com'}, {'name': 'Parth', 'student_id': 'Msc02', 'branch': 'Stat', 'mob_no.': 4567820395, 'email_id': 'Parth@gmail.com'}, {'name': 'Gaurav', 'student_id': 'Msc03', 'branch': 'Chem', 'mob_no.': 1290812345, 'email_id': 'Gaurav@gmail.com'}, {'name': 'Ashwini', 'student_id': 'Msc04', 'branch': 'Phy', 'mob_no.': 3654709132, 'email_id': 'Ashwini@gmail.com'}, {'name': 'Divya', 'student_id': 'Msc05', 'branch': 'Comp', 'mob_no.': 3304564821, 'email_id': 'Divya@gmail.com'}]\n",
      "do you want to add info:n\n",
      "Done\n"
     ]
    }
   ],
   "source": [
    "print('select option - 1:insert, 2:remove, 3:find, 4:sort')\n",
    "\n",
    "def student_info(cmd):\n",
    "    while True:\n",
    "        choice=input('select option:')\n",
    "        if choice in ('1','2','3','4'):\n",
    "            if choice == '1':\n",
    "                print(insert_info())\n",
    "            elif choice == '2':\n",
    "                print(remove_info())\n",
    "            elif choice == '3':\n",
    "                print('Student_information', find_info())\n",
    "            elif choice == '4':\n",
    "                print(sort())\n",
    "        return list_of_students\n",
    "\n",
    "while True:\n",
    "        cmd = input('do you want to add info:')\n",
    "        if cmd == 'y':\n",
    "            student_info(cmd)\n",
    "        else:\n",
    "            break\n",
    "print('Done')\n",
    "\n",
    "        \n",
    "\n",
    "    "
   ]
  },
  {
   "cell_type": "code",
   "execution_count": null,
   "id": "52475a8f",
   "metadata": {},
   "outputs": [],
   "source": []
  }
 ],
 "metadata": {
  "kernelspec": {
   "display_name": "Python 3",
   "language": "python",
   "name": "python3"
  },
  "language_info": {
   "codemirror_mode": {
    "name": "ipython",
    "version": 3
   },
   "file_extension": ".py",
   "mimetype": "text/x-python",
   "name": "python",
   "nbconvert_exporter": "python",
   "pygments_lexer": "ipython3",
   "version": "3.8.8"
  }
 },
 "nbformat": 4,
 "nbformat_minor": 5
}
