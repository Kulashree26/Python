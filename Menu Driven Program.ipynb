{
 "cells": [
  {
   "cell_type": "code",
   "execution_count": null,
   "id": "9ed14f12",
   "metadata": {},
   "outputs": [
    {
     "name": "stdout",
     "output_type": "stream",
     "text": [
      "Enter operation:insert\n",
      "Enter_index:1\n",
      "Enter_num:12\n",
      "[1, 12, 5, 7, 12, 30, 40, 34, 60, 56, 15, 10, 26, 28, 96, 8]\n",
      "Enter operation:sort_desc\n",
      "[96, 60, 56, 40, 34, 30, 28, 26, 15, 12, 10, 8, 7, 5, 1]\n",
      "Enter operation:remove\n",
      "Enter_index:3\n",
      "[1, 5, 7, 30, 40, 34, 60, 56, 15, 10, 26, 28, 96, 8]\n",
      "Enter operation:max\n",
      "96\n",
      "Enter operation:min\n",
      "1\n"
     ]
    }
   ],
   "source": [
    "def list_operations(command):\n",
    "    list1 = [1,5,7,12,30,40,34,60,56,15,10,26,28,96,8]\n",
    "    if command == 'insert':\n",
    "        I = int(input('Enter_index:'))\n",
    "        N = int(input('Enter_num:'))\n",
    "        list1.insert(I, N)\n",
    "        return list1\n",
    "    elif command == 'remove':\n",
    "        I = int(input('Enter_index:'))\n",
    "        list1.pop(I)\n",
    "        return list1\n",
    "    elif command == 'min':\n",
    "        Min = min(list1)\n",
    "        return Min\n",
    "    elif command == 'max':\n",
    "        Max = max(list1)\n",
    "        return Max\n",
    "    elif command == 'sort_asc':\n",
    "        Asc = list1.sort()\n",
    "        return list1\n",
    "    elif command == 'sort_desc':\n",
    "        Desc = list1.sort(reverse=True)\n",
    "        return list1\n",
    "    else:\n",
    "        return None\n",
    "\n",
    "while True:\n",
    "    command = input('Enter operation:')\n",
    "    print(list_operations(command))\n",
    "\n",
    "\n",
    "            \n",
    "    \n",
    "    \n",
    "        \n",
    "    \n",
    "    "
   ]
  },
  {
   "cell_type": "code",
   "execution_count": null,
   "id": "65d11e2d",
   "metadata": {},
   "outputs": [],
   "source": []
  },
  {
   "cell_type": "code",
   "execution_count": null,
   "id": "48039374",
   "metadata": {},
   "outputs": [],
   "source": []
  }
 ],
 "metadata": {
  "kernelspec": {
   "display_name": "Python 3",
   "language": "python",
   "name": "python3"
  },
  "language_info": {
   "codemirror_mode": {
    "name": "ipython",
    "version": 3
   },
   "file_extension": ".py",
   "mimetype": "text/x-python",
   "name": "python",
   "nbconvert_exporter": "python",
   "pygments_lexer": "ipython3",
   "version": "3.8.8"
  }
 },
 "nbformat": 4,
 "nbformat_minor": 5
}
