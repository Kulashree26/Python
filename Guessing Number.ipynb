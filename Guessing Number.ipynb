{
 "cells": [
  {
   "cell_type": "code",
   "execution_count": 1,
   "id": "0181b6dc",
   "metadata": {},
   "outputs": [
    {
     "name": "stdout",
     "output_type": "stream",
     "text": [
      "LETS PLAY THE GAME...\n",
      "do you want to play game:y\n",
      "enter level:easy\n",
      "you have 10 attempts\n",
      "guess the number:5\n",
      "it is high\n",
      "guess the number:9\n",
      "it is high\n",
      "guess the number:50\n",
      "it is high\n",
      "guess the number:70\n",
      "it is low\n",
      "guess the number:60\n",
      "it is high\n",
      "guess the number:65\n",
      "it is high\n",
      "guess the number:67\n",
      "it is high\n",
      "guess the number:68\n",
      "it is high\n",
      "guess the number:69\n",
      "Congratulations\n",
      "attempts over\n",
      "do you want to play game:n\n",
      "69\n"
     ]
    }
   ],
   "source": [
    "import random\n",
    "print('LETS PLAY THE GAME...')\n",
    "\n",
    "def Guess_No():\n",
    "    while True:\n",
    "        Ask = input('do you want to play game:')\n",
    "        if Ask == 'n':\n",
    "            break\n",
    "        else:\n",
    "            Number = random.randrange(0,100)\n",
    "            L = input('enter level:')\n",
    "            while True:\n",
    "                if L == 'hard':\n",
    "                    print('you have 5 attempts')\n",
    "                    for i in range(1,6):\n",
    "                        N = int(input('guess the number:'))\n",
    "                        if N > Number:\n",
    "                            print('it is low')\n",
    "                        elif N < Number:\n",
    "                            print('it is high')\n",
    "                        elif N == Number:\n",
    "                            print('Congratulations')\n",
    "                            break\n",
    "                    print('attempts over')\n",
    "                    break\n",
    "                elif L == 'easy':\n",
    "                    print('you have 10 attempts')\n",
    "                    for i in range(1,11):\n",
    "                        N = int(input('guess the number:'))\n",
    "                        if N > Number:\n",
    "                            print('it is low')\n",
    "                        elif N < Number:\n",
    "                            print('it is high')\n",
    "                        elif N == Number:\n",
    "                            print('Congratulations')\n",
    "                            break\n",
    "                    print('attempts over')\n",
    "                    break\n",
    "    return Number\n",
    "print(Guess_No())\n"
   ]
  },
  {
   "cell_type": "code",
   "execution_count": null,
   "id": "cde6a951",
   "metadata": {},
   "outputs": [],
   "source": []
  },
  {
   "cell_type": "code",
   "execution_count": null,
   "id": "1df05edd",
   "metadata": {},
   "outputs": [],
   "source": []
  }
 ],
 "metadata": {
  "kernelspec": {
   "display_name": "Python 3",
   "language": "python",
   "name": "python3"
  },
  "language_info": {
   "codemirror_mode": {
    "name": "ipython",
    "version": 3
   },
   "file_extension": ".py",
   "mimetype": "text/x-python",
   "name": "python",
   "nbconvert_exporter": "python",
   "pygments_lexer": "ipython3",
   "version": "3.8.8"
  }
 },
 "nbformat": 4,
 "nbformat_minor": 5
}
