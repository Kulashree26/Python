{
 "cells": [
  {
   "cell_type": "code",
   "execution_count": 11,
   "id": "7bd87b36",
   "metadata": {},
   "outputs": [
    {
     "name": "stdout",
     "output_type": "stream",
     "text": [
      "do you want to perform further operations:y\n",
      "Enter_operation:add\n",
      "Enter_num:4\n",
      "do you want to perform further operations:y\n",
      "Enter_operation:add\n",
      "Enter_num:4\n",
      "do you want to perform further operations:n\n",
      "8.0\n"
     ]
    }
   ],
   "source": [
    "import math\n",
    "\n",
    "\n",
    "def simple_calculator(command):\n",
    "    ans = 0\n",
    "    while True:\n",
    "        ask = input('do you want to perform further operations:')\n",
    "        #command = input('Enter_operation:')\n",
    "        if ask == 'y':\n",
    "            command = input('Enter_operation:')\n",
    "            N = float(input('Enter_num:'))\n",
    "            if command == 'add':\n",
    "                ans = ans + N   \n",
    "            elif command == 'sub':\n",
    "                ans = ans - N\n",
    "            elif command == 'multiply':\n",
    "                ans = ans*N\n",
    "            elif command == 'divide':\n",
    "                ans = ans/N\n",
    "            elif command == 'sqrt':\n",
    "                ans = math.sqrt(ans)\n",
    "            elif command == 'power':\n",
    "                i = int(input())\n",
    "                ans = math.pow(ans, i)\n",
    "        else: \n",
    "            break\n",
    "    return ans\n",
    "\n",
    "print(simple_calculator(command))"
   ]
  },
  {
   "cell_type": "code",
   "execution_count": null,
   "id": "d16f50b9",
   "metadata": {},
   "outputs": [],
   "source": []
  }
 ],
 "metadata": {
  "kernelspec": {
   "display_name": "Python 3",
   "language": "python",
   "name": "python3"
  },
  "language_info": {
   "codemirror_mode": {
    "name": "ipython",
    "version": 3
   },
   "file_extension": ".py",
   "mimetype": "text/x-python",
   "name": "python",
   "nbconvert_exporter": "python",
   "pygments_lexer": "ipython3",
   "version": "3.8.8"
  }
 },
 "nbformat": 4,
 "nbformat_minor": 5
}
