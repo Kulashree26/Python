{
 "cells": [
  {
   "cell_type": "code",
   "execution_count": 1,
   "id": "f0013dab",
   "metadata": {},
   "outputs": [
    {
     "name": "stdout",
     "output_type": "stream",
     "text": [
      "<mysql.connector.connection_cext.CMySQLConnection object at 0x00000217CD20EA00>\n"
     ]
    }
   ],
   "source": [
    "#establish onnection\n",
    "\n",
    "import mysql.connector as sql\n",
    "\n",
    "connection = sql.connect(host='localhost', user='Kulashree', password = '260399')\n",
    "print(connection)\n"
   ]
  },
  {
   "cell_type": "code",
   "execution_count": 2,
   "id": "ed29c88b",
   "metadata": {},
   "outputs": [],
   "source": [
    "cursor = connection.cursor()"
   ]
  },
  {
   "cell_type": "code",
   "execution_count": 3,
   "id": "7617cccd",
   "metadata": {},
   "outputs": [
    {
     "name": "stdout",
     "output_type": "stream",
     "text": [
      "('information_schema',)\n",
      "('internshiptask',)\n",
      "('mysql',)\n",
      "('performance_schema',)\n",
      "('sakila',)\n",
      "('sys',)\n",
      "('world',)\n"
     ]
    }
   ],
   "source": [
    "cursor.execute('show databases')\n",
    "for x in cursor:\n",
    "    print(x)\n"
   ]
  },
  {
   "cell_type": "code",
   "execution_count": 4,
   "id": "bf1c64a9",
   "metadata": {},
   "outputs": [],
   "source": [
    "cursor.execute('use internshiptask')"
   ]
  },
  {
   "cell_type": "code",
   "execution_count": 5,
   "id": "e3dcc117",
   "metadata": {},
   "outputs": [
    {
     "name": "stdout",
     "output_type": "stream",
     "text": [
      "('bonus',)\n",
      "('customer',)\n",
      "('emp',)\n",
      "('employee',)\n",
      "('orders',)\n",
      "('title',)\n",
      "('worker',)\n"
     ]
    }
   ],
   "source": [
    "cursor.execute(\"show tables\")\n",
    "for x in cursor:\n",
    "    print(x)"
   ]
  },
  {
   "cell_type": "code",
   "execution_count": 6,
   "id": "63939d7f",
   "metadata": {},
   "outputs": [
    {
     "name": "stdout",
     "output_type": "stream",
     "text": [
      "('WORKER_ID', b'int', 'YES', '', None, '')\n",
      "('FIRST_NAME', b'varchar(10)', 'YES', '', None, '')\n",
      "('LAST_NAME', b'varchar(10)', 'YES', '', None, '')\n",
      "('SALARY', b'int', 'YES', '', None, '')\n",
      "('JOINING_DATE', b'datetime', 'YES', '', None, '')\n",
      "('DEPARTMENT', b'varchar(10)', 'YES', '', None, '')\n"
     ]
    }
   ],
   "source": [
    "cursor.execute('desc worker')\n",
    "for x in cursor:\n",
    "    print(x)"
   ]
  },
  {
   "cell_type": "code",
   "execution_count": 7,
   "id": "21c2fbc0",
   "metadata": {},
   "outputs": [
    {
     "name": "stdout",
     "output_type": "stream",
     "text": [
      "(1, 'Monika', 'Arora', 100000, datetime.datetime(2014, 2, 20, 9, 0), 'HR')\n",
      "(2, 'Niharika', 'Verma', 80000, datetime.datetime(2014, 6, 11, 9, 0), 'Admin')\n",
      "(3, 'Vishal', 'Singhal', 300000, datetime.datetime(2014, 2, 20, 9, 0), 'HR')\n",
      "(4, 'Amitabh', 'Singh', 500000, datetime.datetime(2014, 2, 20, 9, 0), 'Admin')\n",
      "(5, 'Vivek', 'Bhati', 500000, datetime.datetime(2014, 6, 11, 9, 0), 'Admin')\n",
      "(6, 'Vipul', 'Diwan', 200000, datetime.datetime(2014, 6, 11, 9, 0), 'Account')\n",
      "(7, 'Satish', 'Kumar', 75000, datetime.datetime(2014, 1, 20, 9, 0), 'Account')\n",
      "(8, 'Geetika', 'Chauhan', 90000, datetime.datetime(2014, 4, 11, 9, 0), 'Admin')\n"
     ]
    }
   ],
   "source": [
    "cursor.execute('select * from worker')\n",
    "for x in cursor:\n",
    "    print(x)"
   ]
  },
  {
   "cell_type": "code",
   "execution_count": 8,
   "id": "d8e178de",
   "metadata": {},
   "outputs": [],
   "source": [
    "# Write an SQL query to fetch “FIRST_NAME” from Worker table using the alias name as <WORKER_NAME>\n",
    "\n",
    "cursor.execute(\"select FIRST_NAME as 'WORKER_NAME' from worker\")"
   ]
  },
  {
   "cell_type": "code",
   "execution_count": 9,
   "id": "0146db18",
   "metadata": {},
   "outputs": [
    {
     "data": {
      "text/plain": [
       "[('Monika',),\n",
       " ('Niharika',),\n",
       " ('Vishal',),\n",
       " ('Amitabh',),\n",
       " ('Vivek',),\n",
       " ('Vipul',),\n",
       " ('Satish',),\n",
       " ('Geetika',)]"
      ]
     },
     "execution_count": 9,
     "metadata": {},
     "output_type": "execute_result"
    }
   ],
   "source": [
    "cursor.fetchall()"
   ]
  },
  {
   "cell_type": "code",
   "execution_count": 10,
   "id": "2cdb15ab",
   "metadata": {},
   "outputs": [],
   "source": [
    "#Write an SQL query to fetch “FIRST_NAME” from Worker table in upper case\n",
    "\n",
    "cursor.execute(\"select upper(FIRST_NAME) from Worker\")"
   ]
  },
  {
   "cell_type": "code",
   "execution_count": 11,
   "id": "ef6f6ca1",
   "metadata": {},
   "outputs": [
    {
     "data": {
      "text/plain": [
       "[('MONIKA',),\n",
       " ('NIHARIKA',),\n",
       " ('VISHAL',),\n",
       " ('AMITABH',),\n",
       " ('VIVEK',),\n",
       " ('VIPUL',),\n",
       " ('SATISH',),\n",
       " ('GEETIKA',)]"
      ]
     },
     "execution_count": 11,
     "metadata": {},
     "output_type": "execute_result"
    }
   ],
   "source": [
    "cursor.fetchall()"
   ]
  },
  {
   "cell_type": "code",
   "execution_count": 12,
   "id": "000261fc",
   "metadata": {
    "scrolled": true
   },
   "outputs": [],
   "source": [
    "#Write an SQL query to fetch unique values of DEPARTMENT from Worker table.\n",
    "\n",
    "cursor.execute(\"select distinct(DEPARTMENT) from Worker\")"
   ]
  },
  {
   "cell_type": "code",
   "execution_count": 13,
   "id": "7202d97d",
   "metadata": {},
   "outputs": [
    {
     "data": {
      "text/plain": [
       "[('HR',), ('Admin',), ('Account',)]"
      ]
     },
     "execution_count": 13,
     "metadata": {},
     "output_type": "execute_result"
    }
   ],
   "source": [
    "cursor.fetchall()"
   ]
  },
  {
   "cell_type": "code",
   "execution_count": 14,
   "id": "ba9d5f22",
   "metadata": {},
   "outputs": [],
   "source": [
    "#Write an SQL query to print the first three characters of FIRST_NAME from Worker table\n",
    "\n",
    "cursor.execute(\"select substring(FIRST_NAME, 1,3) from Worker\")"
   ]
  },
  {
   "cell_type": "code",
   "execution_count": 15,
   "id": "468c9ee7",
   "metadata": {},
   "outputs": [
    {
     "data": {
      "text/plain": [
       "[('Mon',),\n",
       " ('Nih',),\n",
       " ('Vis',),\n",
       " ('Ami',),\n",
       " ('Viv',),\n",
       " ('Vip',),\n",
       " ('Sat',),\n",
       " ('Gee',)]"
      ]
     },
     "execution_count": 15,
     "metadata": {},
     "output_type": "execute_result"
    }
   ],
   "source": [
    "cursor.fetchall()"
   ]
  },
  {
   "cell_type": "code",
   "execution_count": 16,
   "id": "24f2fe48",
   "metadata": {},
   "outputs": [],
   "source": [
    "# Write an SQL query that fetches the unique values of DEPARTMENT from Worker table and prints its length.\n",
    "\n",
    "cursor.execute(\"select distinct length(DEPARTMENT) from Worker\")"
   ]
  },
  {
   "cell_type": "code",
   "execution_count": 17,
   "id": "d5a73008",
   "metadata": {},
   "outputs": [
    {
     "data": {
      "text/plain": [
       "[(2,), (5,), (7,)]"
      ]
     },
     "execution_count": 17,
     "metadata": {},
     "output_type": "execute_result"
    }
   ],
   "source": [
    "cursor.fetchall()"
   ]
  },
  {
   "cell_type": "code",
   "execution_count": 18,
   "id": "422ab5f5",
   "metadata": {},
   "outputs": [],
   "source": [
    "# Write an SQL query to print the FIRST_NAME and LAST_NAME from Worker table into a single column COMPLETE_NAME. A space char should separate them.\n",
    "\n",
    "cursor.execute(\"select concat(FIRST_NAME,' ', LAST_NAME) from Worker\")"
   ]
  },
  {
   "cell_type": "code",
   "execution_count": 19,
   "id": "2469879d",
   "metadata": {},
   "outputs": [
    {
     "data": {
      "text/plain": [
       "[('Monika Arora',),\n",
       " ('Niharika Verma',),\n",
       " ('Vishal Singhal',),\n",
       " ('Amitabh Singh',),\n",
       " ('Vivek Bhati',),\n",
       " ('Vipul Diwan',),\n",
       " ('Satish Kumar',),\n",
       " ('Geetika Chauhan',)]"
      ]
     },
     "execution_count": 19,
     "metadata": {},
     "output_type": "execute_result"
    }
   ],
   "source": [
    "cursor.fetchall()"
   ]
  },
  {
   "cell_type": "code",
   "execution_count": 20,
   "id": "dafe6a18",
   "metadata": {},
   "outputs": [],
   "source": [
    "# Write an SQL query to print all Worker details from the Worker table order by FIRST_NAME Ascending\n",
    "\n",
    "cursor.execute(\"select * from Worker order by FIRST_NAME asc\")"
   ]
  },
  {
   "cell_type": "code",
   "execution_count": 21,
   "id": "bf34dea3",
   "metadata": {},
   "outputs": [
    {
     "data": {
      "text/plain": [
       "[(4,\n",
       "  'Amitabh',\n",
       "  'Singh',\n",
       "  500000,\n",
       "  datetime.datetime(2014, 2, 20, 9, 0),\n",
       "  'Admin'),\n",
       " (8,\n",
       "  'Geetika',\n",
       "  'Chauhan',\n",
       "  90000,\n",
       "  datetime.datetime(2014, 4, 11, 9, 0),\n",
       "  'Admin'),\n",
       " (1, 'Monika', 'Arora', 100000, datetime.datetime(2014, 2, 20, 9, 0), 'HR'),\n",
       " (2,\n",
       "  'Niharika',\n",
       "  'Verma',\n",
       "  80000,\n",
       "  datetime.datetime(2014, 6, 11, 9, 0),\n",
       "  'Admin'),\n",
       " (7,\n",
       "  'Satish',\n",
       "  'Kumar',\n",
       "  75000,\n",
       "  datetime.datetime(2014, 1, 20, 9, 0),\n",
       "  'Account'),\n",
       " (6,\n",
       "  'Vipul',\n",
       "  'Diwan',\n",
       "  200000,\n",
       "  datetime.datetime(2014, 6, 11, 9, 0),\n",
       "  'Account'),\n",
       " (3, 'Vishal', 'Singhal', 300000, datetime.datetime(2014, 2, 20, 9, 0), 'HR'),\n",
       " (5, 'Vivek', 'Bhati', 500000, datetime.datetime(2014, 6, 11, 9, 0), 'Admin')]"
      ]
     },
     "execution_count": 21,
     "metadata": {},
     "output_type": "execute_result"
    }
   ],
   "source": [
    "cursor.fetchall()"
   ]
  },
  {
   "cell_type": "code",
   "execution_count": 22,
   "id": "b68d3f2c",
   "metadata": {},
   "outputs": [],
   "source": [
    "# Write an SQL query to print all Worker details from the Worker table order by FIRST_NAME Ascending and DEPARTMENT Descending.\n",
    "\n",
    "cursor.execute(\"select * from Worker order by FIRST_NAME asc , DEPARTMENT desc\")"
   ]
  },
  {
   "cell_type": "code",
   "execution_count": 23,
   "id": "eab3c2db",
   "metadata": {},
   "outputs": [
    {
     "data": {
      "text/plain": [
       "[(4,\n",
       "  'Amitabh',\n",
       "  'Singh',\n",
       "  500000,\n",
       "  datetime.datetime(2014, 2, 20, 9, 0),\n",
       "  'Admin'),\n",
       " (8,\n",
       "  'Geetika',\n",
       "  'Chauhan',\n",
       "  90000,\n",
       "  datetime.datetime(2014, 4, 11, 9, 0),\n",
       "  'Admin'),\n",
       " (1, 'Monika', 'Arora', 100000, datetime.datetime(2014, 2, 20, 9, 0), 'HR'),\n",
       " (2,\n",
       "  'Niharika',\n",
       "  'Verma',\n",
       "  80000,\n",
       "  datetime.datetime(2014, 6, 11, 9, 0),\n",
       "  'Admin'),\n",
       " (7,\n",
       "  'Satish',\n",
       "  'Kumar',\n",
       "  75000,\n",
       "  datetime.datetime(2014, 1, 20, 9, 0),\n",
       "  'Account'),\n",
       " (6,\n",
       "  'Vipul',\n",
       "  'Diwan',\n",
       "  200000,\n",
       "  datetime.datetime(2014, 6, 11, 9, 0),\n",
       "  'Account'),\n",
       " (3, 'Vishal', 'Singhal', 300000, datetime.datetime(2014, 2, 20, 9, 0), 'HR'),\n",
       " (5, 'Vivek', 'Bhati', 500000, datetime.datetime(2014, 6, 11, 9, 0), 'Admin')]"
      ]
     },
     "execution_count": 23,
     "metadata": {},
     "output_type": "execute_result"
    }
   ],
   "source": [
    "cursor.fetchall()"
   ]
  },
  {
   "cell_type": "code",
   "execution_count": 24,
   "id": "e7552422",
   "metadata": {},
   "outputs": [],
   "source": [
    "# Write an SQL query to print details for Workers with the first name as “Vipul” and “Satish” from Worker table.\n",
    "\n",
    "cursor.execute(\"select * from Worker where FIRST_NAME ='Vipul' or FIRST_NAME='Satish'\")"
   ]
  },
  {
   "cell_type": "code",
   "execution_count": 25,
   "id": "91456518",
   "metadata": {},
   "outputs": [
    {
     "data": {
      "text/plain": [
       "[(6,\n",
       "  'Vipul',\n",
       "  'Diwan',\n",
       "  200000,\n",
       "  datetime.datetime(2014, 6, 11, 9, 0),\n",
       "  'Account'),\n",
       " (7,\n",
       "  'Satish',\n",
       "  'Kumar',\n",
       "  75000,\n",
       "  datetime.datetime(2014, 1, 20, 9, 0),\n",
       "  'Account')]"
      ]
     },
     "execution_count": 25,
     "metadata": {},
     "output_type": "execute_result"
    }
   ],
   "source": [
    "cursor.fetchall()"
   ]
  },
  {
   "cell_type": "code",
   "execution_count": 26,
   "id": "42ada0fd",
   "metadata": {},
   "outputs": [],
   "source": [
    "# Write an SQL query to print details of Workers with DEPARTMENT name as “Admin”.\n",
    "\n",
    "cursor.execute(\"select * from Worker where DEPARTMENT ='Admin'\")"
   ]
  },
  {
   "cell_type": "code",
   "execution_count": 27,
   "id": "5114a5bc",
   "metadata": {},
   "outputs": [
    {
     "data": {
      "text/plain": [
       "[(2,\n",
       "  'Niharika',\n",
       "  'Verma',\n",
       "  80000,\n",
       "  datetime.datetime(2014, 6, 11, 9, 0),\n",
       "  'Admin'),\n",
       " (4,\n",
       "  'Amitabh',\n",
       "  'Singh',\n",
       "  500000,\n",
       "  datetime.datetime(2014, 2, 20, 9, 0),\n",
       "  'Admin'),\n",
       " (5, 'Vivek', 'Bhati', 500000, datetime.datetime(2014, 6, 11, 9, 0), 'Admin'),\n",
       " (8,\n",
       "  'Geetika',\n",
       "  'Chauhan',\n",
       "  90000,\n",
       "  datetime.datetime(2014, 4, 11, 9, 0),\n",
       "  'Admin')]"
      ]
     },
     "execution_count": 27,
     "metadata": {},
     "output_type": "execute_result"
    }
   ],
   "source": [
    "cursor.fetchall()"
   ]
  },
  {
   "cell_type": "code",
   "execution_count": 28,
   "id": "d0f50c31",
   "metadata": {},
   "outputs": [],
   "source": [
    "# Write an SQL query to print details of the Workers whose FIRST_NAME ends with ‘h’ and contains six alphabets.\n",
    "\n",
    "cursor.execute(\"select * from Worker where FIRST_NAME like '_____h%'\")"
   ]
  },
  {
   "cell_type": "code",
   "execution_count": 29,
   "id": "bc53c921",
   "metadata": {},
   "outputs": [
    {
     "data": {
      "text/plain": [
       "[(7,\n",
       "  'Satish',\n",
       "  'Kumar',\n",
       "  75000,\n",
       "  datetime.datetime(2014, 1, 20, 9, 0),\n",
       "  'Account')]"
      ]
     },
     "execution_count": 29,
     "metadata": {},
     "output_type": "execute_result"
    }
   ],
   "source": [
    "cursor.fetchall()"
   ]
  },
  {
   "cell_type": "code",
   "execution_count": 30,
   "id": "38f29151",
   "metadata": {},
   "outputs": [],
   "source": [
    "# Write an SQL query to print details of the Workers whose SALARY lies between 100000 and 500000\n",
    "\n",
    "cursor.execute(\"select * from Worker where (SALARY>=100000 and SALARY<=500000)\")"
   ]
  },
  {
   "cell_type": "code",
   "execution_count": 31,
   "id": "8ac72083",
   "metadata": {},
   "outputs": [
    {
     "data": {
      "text/plain": [
       "[(1, 'Monika', 'Arora', 100000, datetime.datetime(2014, 2, 20, 9, 0), 'HR'),\n",
       " (3, 'Vishal', 'Singhal', 300000, datetime.datetime(2014, 2, 20, 9, 0), 'HR'),\n",
       " (4,\n",
       "  'Amitabh',\n",
       "  'Singh',\n",
       "  500000,\n",
       "  datetime.datetime(2014, 2, 20, 9, 0),\n",
       "  'Admin'),\n",
       " (5, 'Vivek', 'Bhati', 500000, datetime.datetime(2014, 6, 11, 9, 0), 'Admin'),\n",
       " (6,\n",
       "  'Vipul',\n",
       "  'Diwan',\n",
       "  200000,\n",
       "  datetime.datetime(2014, 6, 11, 9, 0),\n",
       "  'Account')]"
      ]
     },
     "execution_count": 31,
     "metadata": {},
     "output_type": "execute_result"
    }
   ],
   "source": [
    "cursor.fetchall()"
   ]
  },
  {
   "cell_type": "code",
   "execution_count": 32,
   "id": "eb4cc939",
   "metadata": {},
   "outputs": [],
   "source": [
    "# Write an SQL query to fetch worker names with salaries >= 50000 and <= 100000\n",
    "\n",
    "cursor.execute(\"select concat(FIRST_NAME, ' ', LAST_NAME) as Worker_Name from Worker where (SALARY>=50000 and SALARY<=100000)\")"
   ]
  },
  {
   "cell_type": "code",
   "execution_count": 33,
   "id": "4a5f207a",
   "metadata": {},
   "outputs": [
    {
     "data": {
      "text/plain": [
       "[('Monika Arora',),\n",
       " ('Niharika Verma',),\n",
       " ('Satish Kumar',),\n",
       " ('Geetika Chauhan',)]"
      ]
     },
     "execution_count": 33,
     "metadata": {},
     "output_type": "execute_result"
    }
   ],
   "source": [
    "cursor.fetchall()"
   ]
  },
  {
   "cell_type": "code",
   "execution_count": 34,
   "id": "003e0885",
   "metadata": {},
   "outputs": [],
   "source": [
    "# Write an SQL query to fetch the no. of workers for each department in the descending order.\n",
    "\n",
    "cursor.execute(\"select DEPARTMENT, count(DEPARTMENT) FROM Worker group by DEPARTMENT\")"
   ]
  },
  {
   "cell_type": "code",
   "execution_count": 35,
   "id": "8f39b651",
   "metadata": {},
   "outputs": [
    {
     "data": {
      "text/plain": [
       "[('HR', 2), ('Admin', 4), ('Account', 2)]"
      ]
     },
     "execution_count": 35,
     "metadata": {},
     "output_type": "execute_result"
    }
   ],
   "source": [
    "cursor.fetchall()"
   ]
  },
  {
   "cell_type": "code",
   "execution_count": null,
   "id": "60d65337",
   "metadata": {},
   "outputs": [],
   "source": []
  }
 ],
 "metadata": {
  "kernelspec": {
   "display_name": "Python 3",
   "language": "python",
   "name": "python3"
  },
  "language_info": {
   "codemirror_mode": {
    "name": "ipython",
    "version": 3
   },
   "file_extension": ".py",
   "mimetype": "text/x-python",
   "name": "python",
   "nbconvert_exporter": "python",
   "pygments_lexer": "ipython3",
   "version": "3.8.8"
  }
 },
 "nbformat": 4,
 "nbformat_minor": 5
}
